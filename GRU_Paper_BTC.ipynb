{
 "cells": [
  {
   "cell_type": "markdown",
   "id": "9c5cd5b6",
   "metadata": {},
   "source": [
    "This is the GRU results for BTC that are contained in the paper submitted for publishing"
   ]
  },
  {
   "cell_type": "code",
   "execution_count": 1,
   "id": "37ec107e",
   "metadata": {},
   "outputs": [],
   "source": [
    "import numpy as np\n",
    "import pandas as pd\n",
    "import math\n",
    "import sklearn\n",
    "import seaborn as sns\n",
    "import sklearn.preprocessing\n",
    "import datetime\n",
    "import os\n",
    "import matplotlib.pyplot as plt\n",
    "import tensorflow as tf\n",
    "from tensorflow.keras import models, layers\n",
    "from tensorflow import keras\n",
    "import matplotlib.pyplot as plt\n",
    "from sklearn.preprocessing import MinMaxScaler"
   ]
  },
  {
   "cell_type": "code",
   "execution_count": 2,
   "id": "45902f52",
   "metadata": {},
   "outputs": [],
   "source": [
    "train_btc= pd.read_csv('dataset.csv')"
   ]
  },
  {
   "cell_type": "code",
   "execution_count": 15,
   "id": "51baab28",
   "metadata": {},
   "outputs": [
    {
     "data": {
      "text/html": [
       "<div>\n",
       "<style scoped>\n",
       "    .dataframe tbody tr th:only-of-type {\n",
       "        vertical-align: middle;\n",
       "    }\n",
       "\n",
       "    .dataframe tbody tr th {\n",
       "        vertical-align: top;\n",
       "    }\n",
       "\n",
       "    .dataframe thead th {\n",
       "        text-align: right;\n",
       "    }\n",
       "</style>\n",
       "<table border=\"1\" class=\"dataframe\">\n",
       "  <thead>\n",
       "    <tr style=\"text-align: right;\">\n",
       "      <th></th>\n",
       "      <th>Open</th>\n",
       "      <th>High</th>\n",
       "      <th>Low</th>\n",
       "      <th>Close</th>\n",
       "      <th>Adj Close</th>\n",
       "      <th>Volume</th>\n",
       "    </tr>\n",
       "    <tr>\n",
       "      <th>Date</th>\n",
       "      <th></th>\n",
       "      <th></th>\n",
       "      <th></th>\n",
       "      <th></th>\n",
       "      <th></th>\n",
       "      <th></th>\n",
       "    </tr>\n",
       "  </thead>\n",
       "  <tbody>\n",
       "    <tr>\n",
       "      <th>2014-11-17</th>\n",
       "      <td>388.348999</td>\n",
       "      <td>410.199005</td>\n",
       "      <td>377.502014</td>\n",
       "      <td>387.407990</td>\n",
       "      <td>387.407990</td>\n",
       "      <td>41518800</td>\n",
       "    </tr>\n",
       "    <tr>\n",
       "      <th>2014-11-18</th>\n",
       "      <td>387.785004</td>\n",
       "      <td>392.402008</td>\n",
       "      <td>371.117004</td>\n",
       "      <td>375.197998</td>\n",
       "      <td>375.197998</td>\n",
       "      <td>32222500</td>\n",
       "    </tr>\n",
       "    <tr>\n",
       "      <th>2014-11-19</th>\n",
       "      <td>373.895996</td>\n",
       "      <td>386.480988</td>\n",
       "      <td>373.895996</td>\n",
       "      <td>380.554993</td>\n",
       "      <td>380.554993</td>\n",
       "      <td>18931800</td>\n",
       "    </tr>\n",
       "    <tr>\n",
       "      <th>2014-11-20</th>\n",
       "      <td>380.307007</td>\n",
       "      <td>382.024994</td>\n",
       "      <td>356.781006</td>\n",
       "      <td>357.839996</td>\n",
       "      <td>357.839996</td>\n",
       "      <td>25233200</td>\n",
       "    </tr>\n",
       "    <tr>\n",
       "      <th>2014-11-21</th>\n",
       "      <td>357.878998</td>\n",
       "      <td>357.878998</td>\n",
       "      <td>344.112000</td>\n",
       "      <td>350.847992</td>\n",
       "      <td>350.847992</td>\n",
       "      <td>29850100</td>\n",
       "    </tr>\n",
       "  </tbody>\n",
       "</table>\n",
       "</div>"
      ],
      "text/plain": [
       "                  Open        High         Low       Close   Adj Close  \\\n",
       "Date                                                                     \n",
       "2014-11-17  388.348999  410.199005  377.502014  387.407990  387.407990   \n",
       "2014-11-18  387.785004  392.402008  371.117004  375.197998  375.197998   \n",
       "2014-11-19  373.895996  386.480988  373.895996  380.554993  380.554993   \n",
       "2014-11-20  380.307007  382.024994  356.781006  357.839996  357.839996   \n",
       "2014-11-21  357.878998  357.878998  344.112000  350.847992  350.847992   \n",
       "\n",
       "              Volume  \n",
       "Date                  \n",
       "2014-11-17  41518800  \n",
       "2014-11-18  32222500  \n",
       "2014-11-19  18931800  \n",
       "2014-11-20  25233200  \n",
       "2014-11-21  29850100  "
      ]
     },
     "execution_count": 15,
     "metadata": {},
     "output_type": "execute_result"
    }
   ],
   "source": [
    "train_btc.head()"
   ]
  },
  {
   "cell_type": "code",
   "execution_count": 3,
   "id": "a47ba181",
   "metadata": {},
   "outputs": [],
   "source": [
    "train_btc[\"Date\"]=pd.to_datetime(train_btc[\"Date\"])\n",
    "train_btc.set_index('Date', inplace=True)"
   ]
  },
  {
   "cell_type": "code",
   "execution_count": 4,
   "id": "10c490b8",
   "metadata": {},
   "outputs": [
    {
     "data": {
      "text/plain": [
       "2576"
      ]
     },
     "execution_count": 4,
     "metadata": {},
     "output_type": "execute_result"
    }
   ],
   "source": [
    "data = train_btc.filter(['Close'])\n",
    "dataset = data.values\n",
    "training_data_len = math.ceil(len(dataset) * .8)\n",
    "training_data_len"
   ]
  },
  {
   "cell_type": "code",
   "execution_count": 5,
   "id": "1ffe9f63",
   "metadata": {},
   "outputs": [],
   "source": [
    "from sklearn.preprocessing import MinMaxScaler\n",
    "sc=MinMaxScaler(feature_range=(0,1))\n",
    "BTC_training_scaled=sc.fit_transform(dataset)"
   ]
  },
  {
   "cell_type": "code",
   "execution_count": 6,
   "id": "d1273e85",
   "metadata": {},
   "outputs": [],
   "source": [
    "train_data_BTC = BTC_training_scaled[0:training_data_len, :]"
   ]
  },
  {
   "cell_type": "code",
   "execution_count": 7,
   "id": "aa11099d",
   "metadata": {},
   "outputs": [],
   "source": [
    "x_train_BTC = []\n",
    "y_train_BTC = []\n",
    "for i in range(80, len(train_data_BTC)):\n",
    "    x_train_BTC.append(train_data_BTC[i-80:i, 0])\n",
    "    y_train_BTC.append(train_data_BTC[i, 0])\n",
    "x_train_BTC,y_train_BTC=np.array(x_train_BTC), np.array(y_train_BTC)"
   ]
  },
  {
   "cell_type": "code",
   "execution_count": 8,
   "id": "3dfb4448",
   "metadata": {},
   "outputs": [],
   "source": [
    "x_train_BTC = np.reshape(x_train_BTC, (x_train_BTC.shape[0],x_train_BTC.shape[1], 1))"
   ]
  },
  {
   "cell_type": "code",
   "execution_count": 9,
   "id": "836b7502",
   "metadata": {},
   "outputs": [],
   "source": [
    "test_data = BTC_training_scaled[training_data_len- 80: ,:]\n",
    "X_test = []\n",
    "y_test = dataset[training_data_len: ,:]\n",
    "for i in range(80, len(test_data)):\n",
    "  X_test.append(test_data[i-80 : i, 0])"
   ]
  },
  {
   "cell_type": "code",
   "execution_count": 10,
   "id": "b09a85bc",
   "metadata": {},
   "outputs": [],
   "source": [
    "X_test = np.array(X_test)"
   ]
  },
  {
   "cell_type": "code",
   "execution_count": 11,
   "id": "51ec2002",
   "metadata": {},
   "outputs": [],
   "source": [
    "X_test = np.reshape(X_test, (X_test.shape[0], X_test.shape[1], 1))"
   ]
  },
  {
   "cell_type": "code",
   "execution_count": 12,
   "id": "cd9cbf5c",
   "metadata": {},
   "outputs": [],
   "source": [
    "from tensorflow.keras import models, layers, Sequential"
   ]
  },
  {
   "cell_type": "code",
   "execution_count": 13,
   "id": "750dffab",
   "metadata": {},
   "outputs": [],
   "source": [
    "Reg_btc = Sequential()\n",
    "Reg_btc.add(layers.GRU(60, return_sequences=True, input_shape= (x_train_BTC.shape[1], 1)))\n",
    "Reg_btc.add(layers.Dropout(0.2))\n",
    "Reg_btc.add(layers.GRU(60, return_sequences=True))\n",
    "Reg_btc.add(layers.Dropout(0.2))\n",
    "Reg_btc.add(layers.GRU(60, return_sequences=True))\n",
    "Reg_btc.add(layers.Dropout(0.2))\n",
    "Reg_btc.add(layers.GRU(60))\n",
    "Reg_btc.add(layers.Dropout(0.2))\n",
    "Reg_btc.add(layers.Dense(1))"
   ]
  },
  {
   "cell_type": "code",
   "execution_count": 14,
   "id": "661f87ef",
   "metadata": {},
   "outputs": [
    {
     "name": "stdout",
     "output_type": "stream",
     "text": [
      "Model: \"sequential\"\n",
      "_________________________________________________________________\n",
      "Layer (type)                 Output Shape              Param #   \n",
      "=================================================================\n",
      "gru (GRU)                    (None, 80, 60)            11340     \n",
      "_________________________________________________________________\n",
      "dropout (Dropout)            (None, 80, 60)            0         \n",
      "_________________________________________________________________\n",
      "gru_1 (GRU)                  (None, 80, 60)            21960     \n",
      "_________________________________________________________________\n",
      "dropout_1 (Dropout)          (None, 80, 60)            0         \n",
      "_________________________________________________________________\n",
      "gru_2 (GRU)                  (None, 80, 60)            21960     \n",
      "_________________________________________________________________\n",
      "dropout_2 (Dropout)          (None, 80, 60)            0         \n",
      "_________________________________________________________________\n",
      "gru_3 (GRU)                  (None, 60)                21960     \n",
      "_________________________________________________________________\n",
      "dropout_3 (Dropout)          (None, 60)                0         \n",
      "_________________________________________________________________\n",
      "dense (Dense)                (None, 1)                 61        \n",
      "=================================================================\n",
      "Total params: 77,281\n",
      "Trainable params: 77,281\n",
      "Non-trainable params: 0\n",
      "_________________________________________________________________\n"
     ]
    }
   ],
   "source": [
    "Reg_btc.summary()"
   ]
  },
  {
   "cell_type": "code",
   "execution_count": 15,
   "id": "4fde24e0",
   "metadata": {},
   "outputs": [],
   "source": [
    "Reg_btc.compile(optimizer='adam',loss='mean_squared_error')"
   ]
  },
  {
   "cell_type": "code",
   "execution_count": 16,
   "id": "8e0d33e9",
   "metadata": {},
   "outputs": [
    {
     "name": "stdout",
     "output_type": "stream",
     "text": [
      "Train on 2496 samples\n",
      "Epoch 1/10\n",
      "2496/2496 [==============================] - 18s 7ms/sample - loss: 0.0063\n",
      "Epoch 2/10\n",
      "2496/2496 [==============================] - 2s 946us/sample - loss: 0.0017\n",
      "Epoch 3/10\n",
      "2496/2496 [==============================] - 2s 925us/sample - loss: 0.0018\n",
      "Epoch 4/10\n",
      "2496/2496 [==============================] - 2s 880us/sample - loss: 0.0015\n",
      "Epoch 5/10\n",
      "2496/2496 [==============================] - 2s 940us/sample - loss: 0.0013\n",
      "Epoch 6/10\n",
      "2496/2496 [==============================] - 2s 927us/sample - loss: 0.0015\n",
      "Epoch 7/10\n",
      "2496/2496 [==============================] - 2s 929us/sample - loss: 0.0013\n",
      "Epoch 8/10\n",
      "2496/2496 [==============================] - 2s 958us/sample - loss: 0.0012\n",
      "Epoch 9/10\n",
      "2496/2496 [==============================] - 2s 926us/sample - loss: 0.0014\n",
      "Epoch 10/10\n",
      "2496/2496 [==============================] - 2s 944us/sample - loss: 0.0011\n"
     ]
    }
   ],
   "source": [
    "history = Reg_btc.fit(x_train_BTC, y_train_BTC, batch_size=32,epochs=10)"
   ]
  },
  {
   "cell_type": "code",
   "execution_count": 17,
   "id": "ada98952",
   "metadata": {},
   "outputs": [
    {
     "data": {
      "text/plain": [
       "643"
      ]
     },
     "execution_count": 17,
     "metadata": {},
     "output_type": "execute_result"
    }
   ],
   "source": [
    "predictions_1 = Reg_btc.predict(X_test)\n",
    "predictions_1 = sc.inverse_transform(predictions_1)\n",
    "len(predictions_1)"
   ]
  },
  {
   "cell_type": "code",
   "execution_count": 18,
   "id": "7cbe567c",
   "metadata": {},
   "outputs": [
    {
     "data": {
      "text/plain": [
       "1082.3969203333006"
      ]
     },
     "execution_count": 18,
     "metadata": {},
     "output_type": "execute_result"
    }
   ],
   "source": [
    "rmse = np.sqrt(np.mean(predictions_1 - y_test)**2)\n",
    "rmse"
   ]
  },
  {
   "cell_type": "code",
   "execution_count": 19,
   "id": "98f22641",
   "metadata": {},
   "outputs": [
    {
     "name": "stderr",
     "output_type": "stream",
     "text": [
      "/home/shegun/anaconda3/envs/GPU_Stations/lib/python3.6/site-packages/ipykernel_launcher.py:4: SettingWithCopyWarning: \n",
      "A value is trying to be set on a copy of a slice from a DataFrame.\n",
      "Try using .loc[row_indexer,col_indexer] = value instead\n",
      "\n",
      "See the caveats in the documentation: https://pandas.pydata.org/pandas-docs/stable/user_guide/indexing.html#returning-a-view-versus-a-copy\n",
      "  after removing the cwd from sys.path.\n"
     ]
    },
    {
     "data": {
      "text/plain": [
       "<matplotlib.legend.Legend at 0x7f1a544d6d68>"
      ]
     },
     "execution_count": 19,
     "metadata": {},
     "output_type": "execute_result"
    },
    {
     "data": {
      "image/png": "[encoded data removed]",
      "text/plain": [
       "<Figure size 1008x720 with 1 Axes>"
      ]
     },
     "metadata": {
      "needs_background": "light"
     },
     "output_type": "display_data"
    }
   ],
   "source": [
    "train = train_btc[:training_data_len]\n",
    "\n",
    "valid_1 = train_btc[training_data_len:]\n",
    "valid_1['Predictions'] = predictions_1\n",
    "plt.figure(figsize=(14, 10))\n",
    "plt.subplot(2, 1, 1)\n",
    "plt.title('Graph GRU')\n",
    "plt.xlabel('Date', fontsize=18)\n",
    "plt.ylabel('Close(USD)', fontsize=18)\n",
    "plt.plot(train['Close'])\n",
    "plt.plot(valid_1[['Close', 'Predictions']])\n",
    "\n",
    "plt.legend(['Train', 'test', 'Predictions'], loc='upper left')"
   ]
  }
 ],
 "metadata": {
  "kernelspec": {
   "display_name": "Python 3",
   "language": "python",
   "name": "python3"
  },
  "language_info": {
   "codemirror_mode": {
    "name": "ipython",
    "version": 3
   },
   "file_extension": ".py",
   "mimetype": "text/x-python",
   "name": "python",
   "nbconvert_exporter": "python",
   "pygments_lexer": "ipython3",
   "version": "3.6.13"
  }
 },
 "nbformat": 4,
 "nbformat_minor": 5
}
