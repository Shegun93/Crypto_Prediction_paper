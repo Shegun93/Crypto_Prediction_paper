{
 "cells": [
  {
   "cell_type": "raw",
   "id": "90eb8dfe",
   "metadata": {},
   "source": [
    "# The results, figures and table contained in the paper \"Deep Neural Network: Predicting the Future Prices of cryptocurrency using LSTM and GRU\" were gotten from experiement performed. Here's in this notebook, the results are for the LSTM method discussed in the paper. figures such as sample training for eth, btc, correlation are generated here."
   ]
  },
  {
   "cell_type": "code",
   "execution_count": 1,
   "id": "c8c1e7a2",
   "metadata": {},
   "outputs": [],
   "source": [
    "import numpy as np\n",
    "import pandas as pd\n",
    "import math\n",
    "import sklearn\n",
    "import seaborn as sns\n",
    "import sklearn.preprocessing\n",
    "import datetime\n",
    "import os\n",
    "import matplotlib.pyplot as plt\n",
    "import tensorflow as tf\n",
    "from tensorflow.keras import models, layers\n",
    "from tensorflow import keras\n",
    "import matplotlib.pyplot as plt\n",
    "from sklearn.preprocessing import MinMaxScaler"
   ]
  },
  {
   "cell_type": "code",
   "execution_count": null,
   "id": "01be2e21",
   "metadata": {},
   "outputs": [],
   "source": []
  },
  {
   "cell_type": "code",
   "execution_count": 2,
   "id": "b62887ea",
   "metadata": {},
   "outputs": [],
   "source": [
    "#import historical btc and eth \n",
    "train_btc= pd.read_csv('dataset.csv')\n",
    "train_eth= pd.read_csv('Dataset_eth.csv')"
   ]
  },
  {
   "cell_type": "code",
   "execution_count": 3,
   "id": "3fe7321a",
   "metadata": {},
   "outputs": [],
   "source": [
    "train_btc[\"Date\"]=pd.to_datetime(train_btc[\"Date\"])\n",
    "train_btc.set_index('Date', inplace=True)"
   ]
  },
  {
   "cell_type": "code",
   "execution_count": 4,
   "id": "ffd1591e",
   "metadata": {},
   "outputs": [],
   "source": [
    "train_eth[\"Date\"]=pd.to_datetime(train_eth[\"Date\"])\n",
    "train_eth.set_index('Date', inplace=True)"
   ]
  },
  {
   "cell_type": "code",
   "execution_count": null,
   "id": "3f297499",
   "metadata": {},
   "outputs": [],
   "source": []
  },
  {
   "cell_type": "code",
   "execution_count": 5,
   "id": "56b9f962",
   "metadata": {},
   "outputs": [
    {
     "data": {
      "text/html": [
       "<div>\n",
       "<style scoped>\n",
       "    .dataframe tbody tr th:only-of-type {\n",
       "        vertical-align: middle;\n",
       "    }\n",
       "\n",
       "    .dataframe tbody tr th {\n",
       "        vertical-align: top;\n",
       "    }\n",
       "\n",
       "    .dataframe thead th {\n",
       "        text-align: right;\n",
       "    }\n",
       "</style>\n",
       "<table border=\"1\" class=\"dataframe\">\n",
       "  <thead>\n",
       "    <tr style=\"text-align: right;\">\n",
       "      <th></th>\n",
       "      <th>Open</th>\n",
       "      <th>High</th>\n",
       "      <th>Low</th>\n",
       "      <th>Close</th>\n",
       "      <th>Adj Close</th>\n",
       "      <th>Volume</th>\n",
       "    </tr>\n",
       "    <tr>\n",
       "      <th>Date</th>\n",
       "      <th></th>\n",
       "      <th></th>\n",
       "      <th></th>\n",
       "      <th></th>\n",
       "      <th></th>\n",
       "      <th></th>\n",
       "    </tr>\n",
       "  </thead>\n",
       "  <tbody>\n",
       "    <tr>\n",
       "      <th>2014-11-17</th>\n",
       "      <td>388.348999</td>\n",
       "      <td>410.199005</td>\n",
       "      <td>377.502014</td>\n",
       "      <td>387.407990</td>\n",
       "      <td>387.407990</td>\n",
       "      <td>41518800</td>\n",
       "    </tr>\n",
       "    <tr>\n",
       "      <th>2014-11-18</th>\n",
       "      <td>387.785004</td>\n",
       "      <td>392.402008</td>\n",
       "      <td>371.117004</td>\n",
       "      <td>375.197998</td>\n",
       "      <td>375.197998</td>\n",
       "      <td>32222500</td>\n",
       "    </tr>\n",
       "    <tr>\n",
       "      <th>2014-11-19</th>\n",
       "      <td>373.895996</td>\n",
       "      <td>386.480988</td>\n",
       "      <td>373.895996</td>\n",
       "      <td>380.554993</td>\n",
       "      <td>380.554993</td>\n",
       "      <td>18931800</td>\n",
       "    </tr>\n",
       "    <tr>\n",
       "      <th>2014-11-20</th>\n",
       "      <td>380.307007</td>\n",
       "      <td>382.024994</td>\n",
       "      <td>356.781006</td>\n",
       "      <td>357.839996</td>\n",
       "      <td>357.839996</td>\n",
       "      <td>25233200</td>\n",
       "    </tr>\n",
       "    <tr>\n",
       "      <th>2014-11-21</th>\n",
       "      <td>357.878998</td>\n",
       "      <td>357.878998</td>\n",
       "      <td>344.112000</td>\n",
       "      <td>350.847992</td>\n",
       "      <td>350.847992</td>\n",
       "      <td>29850100</td>\n",
       "    </tr>\n",
       "  </tbody>\n",
       "</table>\n",
       "</div>"
      ],
      "text/plain": [
       "                  Open        High         Low       Close   Adj Close  \\\n",
       "Date                                                                     \n",
       "2014-11-17  388.348999  410.199005  377.502014  387.407990  387.407990   \n",
       "2014-11-18  387.785004  392.402008  371.117004  375.197998  375.197998   \n",
       "2014-11-19  373.895996  386.480988  373.895996  380.554993  380.554993   \n",
       "2014-11-20  380.307007  382.024994  356.781006  357.839996  357.839996   \n",
       "2014-11-21  357.878998  357.878998  344.112000  350.847992  350.847992   \n",
       "\n",
       "              Volume  \n",
       "Date                  \n",
       "2014-11-17  41518800  \n",
       "2014-11-18  32222500  \n",
       "2014-11-19  18931800  \n",
       "2014-11-20  25233200  \n",
       "2014-11-21  29850100  "
      ]
     },
     "execution_count": 5,
     "metadata": {},
     "output_type": "execute_result"
    }
   ],
   "source": [
    "train_btc.head()"
   ]
  },
  {
   "cell_type": "code",
   "execution_count": 6,
   "id": "fb93b344",
   "metadata": {},
   "outputs": [
    {
     "data": {
      "text/html": [
       "<div>\n",
       "<style scoped>\n",
       "    .dataframe tbody tr th:only-of-type {\n",
       "        vertical-align: middle;\n",
       "    }\n",
       "\n",
       "    .dataframe tbody tr th {\n",
       "        vertical-align: top;\n",
       "    }\n",
       "\n",
       "    .dataframe thead th {\n",
       "        text-align: right;\n",
       "    }\n",
       "</style>\n",
       "<table border=\"1\" class=\"dataframe\">\n",
       "  <thead>\n",
       "    <tr style=\"text-align: right;\">\n",
       "      <th></th>\n",
       "      <th>Open</th>\n",
       "      <th>High</th>\n",
       "      <th>Low</th>\n",
       "      <th>Close</th>\n",
       "      <th>Adj Close</th>\n",
       "      <th>Volume</th>\n",
       "    </tr>\n",
       "    <tr>\n",
       "      <th>Date</th>\n",
       "      <th></th>\n",
       "      <th></th>\n",
       "      <th></th>\n",
       "      <th></th>\n",
       "      <th></th>\n",
       "      <th></th>\n",
       "    </tr>\n",
       "  </thead>\n",
       "  <tbody>\n",
       "    <tr>\n",
       "      <th>2023-09-05</th>\n",
       "      <td>25814.957031</td>\n",
       "      <td>25858.375000</td>\n",
       "      <td>25589.988281</td>\n",
       "      <td>25779.982422</td>\n",
       "      <td>25779.982422</td>\n",
       "      <td>11094740040</td>\n",
       "    </tr>\n",
       "    <tr>\n",
       "      <th>2023-09-06</th>\n",
       "      <td>25783.931641</td>\n",
       "      <td>25953.015625</td>\n",
       "      <td>25404.359375</td>\n",
       "      <td>25753.236328</td>\n",
       "      <td>25753.236328</td>\n",
       "      <td>12752705327</td>\n",
       "    </tr>\n",
       "    <tr>\n",
       "      <th>2023-09-07</th>\n",
       "      <td>25748.312500</td>\n",
       "      <td>26409.302734</td>\n",
       "      <td>25608.201172</td>\n",
       "      <td>26240.195313</td>\n",
       "      <td>26240.195313</td>\n",
       "      <td>11088307100</td>\n",
       "    </tr>\n",
       "    <tr>\n",
       "      <th>2023-09-08</th>\n",
       "      <td>26245.208984</td>\n",
       "      <td>26414.005859</td>\n",
       "      <td>25677.480469</td>\n",
       "      <td>25905.654297</td>\n",
       "      <td>25905.654297</td>\n",
       "      <td>10817356400</td>\n",
       "    </tr>\n",
       "    <tr>\n",
       "      <th>2023-09-09</th>\n",
       "      <td>25899.925781</td>\n",
       "      <td>25899.925781</td>\n",
       "      <td>25842.017578</td>\n",
       "      <td>25860.812500</td>\n",
       "      <td>25860.812500</td>\n",
       "      <td>9393588224</td>\n",
       "    </tr>\n",
       "  </tbody>\n",
       "</table>\n",
       "</div>"
      ],
      "text/plain": [
       "                    Open          High           Low         Close  \\\n",
       "Date                                                                 \n",
       "2023-09-05  25814.957031  25858.375000  25589.988281  25779.982422   \n",
       "2023-09-06  25783.931641  25953.015625  25404.359375  25753.236328   \n",
       "2023-09-07  25748.312500  26409.302734  25608.201172  26240.195313   \n",
       "2023-09-08  26245.208984  26414.005859  25677.480469  25905.654297   \n",
       "2023-09-09  25899.925781  25899.925781  25842.017578  25860.812500   \n",
       "\n",
       "               Adj Close       Volume  \n",
       "Date                                   \n",
       "2023-09-05  25779.982422  11094740040  \n",
       "2023-09-06  25753.236328  12752705327  \n",
       "2023-09-07  26240.195313  11088307100  \n",
       "2023-09-08  25905.654297  10817356400  \n",
       "2023-09-09  25860.812500   9393588224  "
      ]
     },
     "execution_count": 6,
     "metadata": {},
     "output_type": "execute_result"
    }
   ],
   "source": [
    "train_btc.tail()"
   ]
  },
  {
   "cell_type": "code",
   "execution_count": 7,
   "id": "18316a2c",
   "metadata": {},
   "outputs": [
    {
     "data": {
      "text/html": [
       "<div>\n",
       "<style scoped>\n",
       "    .dataframe tbody tr th:only-of-type {\n",
       "        vertical-align: middle;\n",
       "    }\n",
       "\n",
       "    .dataframe tbody tr th {\n",
       "        vertical-align: top;\n",
       "    }\n",
       "\n",
       "    .dataframe thead th {\n",
       "        text-align: right;\n",
       "    }\n",
       "</style>\n",
       "<table border=\"1\" class=\"dataframe\">\n",
       "  <thead>\n",
       "    <tr style=\"text-align: right;\">\n",
       "      <th></th>\n",
       "      <th>Open</th>\n",
       "      <th>High</th>\n",
       "      <th>Low</th>\n",
       "      <th>Close</th>\n",
       "      <th>Adj Close</th>\n",
       "      <th>Volume</th>\n",
       "    </tr>\n",
       "    <tr>\n",
       "      <th>Date</th>\n",
       "      <th></th>\n",
       "      <th></th>\n",
       "      <th></th>\n",
       "      <th></th>\n",
       "      <th></th>\n",
       "      <th></th>\n",
       "    </tr>\n",
       "  </thead>\n",
       "  <tbody>\n",
       "    <tr>\n",
       "      <th>2017-11-09</th>\n",
       "      <td>308.644989</td>\n",
       "      <td>329.451996</td>\n",
       "      <td>307.056000</td>\n",
       "      <td>320.884003</td>\n",
       "      <td>320.884003</td>\n",
       "      <td>893249984</td>\n",
       "    </tr>\n",
       "    <tr>\n",
       "      <th>2017-11-10</th>\n",
       "      <td>320.670990</td>\n",
       "      <td>324.717987</td>\n",
       "      <td>294.541992</td>\n",
       "      <td>299.252991</td>\n",
       "      <td>299.252991</td>\n",
       "      <td>885985984</td>\n",
       "    </tr>\n",
       "    <tr>\n",
       "      <th>2017-11-11</th>\n",
       "      <td>298.585999</td>\n",
       "      <td>319.453003</td>\n",
       "      <td>298.191986</td>\n",
       "      <td>314.681000</td>\n",
       "      <td>314.681000</td>\n",
       "      <td>842300992</td>\n",
       "    </tr>\n",
       "    <tr>\n",
       "      <th>2017-11-12</th>\n",
       "      <td>314.690002</td>\n",
       "      <td>319.153015</td>\n",
       "      <td>298.513000</td>\n",
       "      <td>307.907990</td>\n",
       "      <td>307.907990</td>\n",
       "      <td>1613479936</td>\n",
       "    </tr>\n",
       "    <tr>\n",
       "      <th>2017-11-13</th>\n",
       "      <td>307.024994</td>\n",
       "      <td>328.415009</td>\n",
       "      <td>307.024994</td>\n",
       "      <td>316.716003</td>\n",
       "      <td>316.716003</td>\n",
       "      <td>1041889984</td>\n",
       "    </tr>\n",
       "  </tbody>\n",
       "</table>\n",
       "</div>"
      ],
      "text/plain": [
       "                  Open        High         Low       Close   Adj Close  \\\n",
       "Date                                                                     \n",
       "2017-11-09  308.644989  329.451996  307.056000  320.884003  320.884003   \n",
       "2017-11-10  320.670990  324.717987  294.541992  299.252991  299.252991   \n",
       "2017-11-11  298.585999  319.453003  298.191986  314.681000  314.681000   \n",
       "2017-11-12  314.690002  319.153015  298.513000  307.907990  307.907990   \n",
       "2017-11-13  307.024994  328.415009  307.024994  316.716003  316.716003   \n",
       "\n",
       "                Volume  \n",
       "Date                    \n",
       "2017-11-09   893249984  \n",
       "2017-11-10   885985984  \n",
       "2017-11-11   842300992  \n",
       "2017-11-12  1613479936  \n",
       "2017-11-13  1041889984  "
      ]
     },
     "execution_count": 7,
     "metadata": {},
     "output_type": "execute_result"
    }
   ],
   "source": [
    "train_eth.head()"
   ]
  },
  {
   "cell_type": "code",
   "execution_count": 8,
   "id": "1fb07b4d",
   "metadata": {},
   "outputs": [],
   "source": [
    "from sklearn.model_selection import train_test_split\n",
    "Dataset_train, Dataset_test = train_test_split(train_btc, test_size=0.2, shuffle=False)\n",
    "Dataset_train_eth, Dataset_test_eth = train_test_split(train_eth, test_size=0.2, shuffle=False)"
   ]
  },
  {
   "cell_type": "code",
   "execution_count": 9,
   "id": "1d3efa69",
   "metadata": {},
   "outputs": [
    {
     "data": {
      "text/html": [
       "<div>\n",
       "<style scoped>\n",
       "    .dataframe tbody tr th:only-of-type {\n",
       "        vertical-align: middle;\n",
       "    }\n",
       "\n",
       "    .dataframe tbody tr th {\n",
       "        vertical-align: top;\n",
       "    }\n",
       "\n",
       "    .dataframe thead th {\n",
       "        text-align: right;\n",
       "    }\n",
       "</style>\n",
       "<table border=\"1\" class=\"dataframe\">\n",
       "  <thead>\n",
       "    <tr style=\"text-align: right;\">\n",
       "      <th></th>\n",
       "      <th>Open</th>\n",
       "      <th>High</th>\n",
       "      <th>Low</th>\n",
       "      <th>Close</th>\n",
       "      <th>Adj Close</th>\n",
       "      <th>Volume</th>\n",
       "    </tr>\n",
       "    <tr>\n",
       "      <th>Date</th>\n",
       "      <th></th>\n",
       "      <th></th>\n",
       "      <th></th>\n",
       "      <th></th>\n",
       "      <th></th>\n",
       "      <th></th>\n",
       "    </tr>\n",
       "  </thead>\n",
       "  <tbody>\n",
       "    <tr>\n",
       "      <th>2021-11-30</th>\n",
       "      <td>57830.113281</td>\n",
       "      <td>59113.402344</td>\n",
       "      <td>56057.281250</td>\n",
       "      <td>57005.425781</td>\n",
       "      <td>57005.425781</td>\n",
       "      <td>36708594618</td>\n",
       "    </tr>\n",
       "    <tr>\n",
       "      <th>2021-12-01</th>\n",
       "      <td>56907.964844</td>\n",
       "      <td>59041.683594</td>\n",
       "      <td>56553.082031</td>\n",
       "      <td>57229.828125</td>\n",
       "      <td>57229.828125</td>\n",
       "      <td>36858195307</td>\n",
       "    </tr>\n",
       "    <tr>\n",
       "      <th>2021-12-02</th>\n",
       "      <td>57217.371094</td>\n",
       "      <td>57349.234375</td>\n",
       "      <td>55895.132813</td>\n",
       "      <td>56477.816406</td>\n",
       "      <td>56477.816406</td>\n",
       "      <td>32379968686</td>\n",
       "    </tr>\n",
       "    <tr>\n",
       "      <th>2021-12-03</th>\n",
       "      <td>56509.164063</td>\n",
       "      <td>57482.167969</td>\n",
       "      <td>52496.585938</td>\n",
       "      <td>53598.246094</td>\n",
       "      <td>53598.246094</td>\n",
       "      <td>39789134215</td>\n",
       "    </tr>\n",
       "    <tr>\n",
       "      <th>2021-12-04</th>\n",
       "      <td>53727.878906</td>\n",
       "      <td>53904.679688</td>\n",
       "      <td>42874.617188</td>\n",
       "      <td>49200.703125</td>\n",
       "      <td>49200.703125</td>\n",
       "      <td>61385677469</td>\n",
       "    </tr>\n",
       "  </tbody>\n",
       "</table>\n",
       "</div>"
      ],
      "text/plain": [
       "                    Open          High           Low         Close  \\\n",
       "Date                                                                 \n",
       "2021-11-30  57830.113281  59113.402344  56057.281250  57005.425781   \n",
       "2021-12-01  56907.964844  59041.683594  56553.082031  57229.828125   \n",
       "2021-12-02  57217.371094  57349.234375  55895.132813  56477.816406   \n",
       "2021-12-03  56509.164063  57482.167969  52496.585938  53598.246094   \n",
       "2021-12-04  53727.878906  53904.679688  42874.617188  49200.703125   \n",
       "\n",
       "               Adj Close       Volume  \n",
       "Date                                   \n",
       "2021-11-30  57005.425781  36708594618  \n",
       "2021-12-01  57229.828125  36858195307  \n",
       "2021-12-02  56477.816406  32379968686  \n",
       "2021-12-03  53598.246094  39789134215  \n",
       "2021-12-04  49200.703125  61385677469  "
      ]
     },
     "execution_count": 9,
     "metadata": {},
     "output_type": "execute_result"
    }
   ],
   "source": [
    "Dataset_train.tail()"
   ]
  },
  {
   "cell_type": "code",
   "execution_count": 10,
   "id": "3d5ed669",
   "metadata": {},
   "outputs": [
    {
     "data": {
      "text/html": [
       "<div>\n",
       "<style scoped>\n",
       "    .dataframe tbody tr th:only-of-type {\n",
       "        vertical-align: middle;\n",
       "    }\n",
       "\n",
       "    .dataframe tbody tr th {\n",
       "        vertical-align: top;\n",
       "    }\n",
       "\n",
       "    .dataframe thead th {\n",
       "        text-align: right;\n",
       "    }\n",
       "</style>\n",
       "<table border=\"1\" class=\"dataframe\">\n",
       "  <thead>\n",
       "    <tr style=\"text-align: right;\">\n",
       "      <th></th>\n",
       "      <th>Open</th>\n",
       "      <th>High</th>\n",
       "      <th>Low</th>\n",
       "      <th>Close</th>\n",
       "      <th>Adj Close</th>\n",
       "      <th>Volume</th>\n",
       "    </tr>\n",
       "    <tr>\n",
       "      <th>Date</th>\n",
       "      <th></th>\n",
       "      <th></th>\n",
       "      <th></th>\n",
       "      <th></th>\n",
       "      <th></th>\n",
       "      <th></th>\n",
       "    </tr>\n",
       "  </thead>\n",
       "  <tbody>\n",
       "    <tr>\n",
       "      <th>2014-11-17</th>\n",
       "      <td>388.348999</td>\n",
       "      <td>410.199005</td>\n",
       "      <td>377.502014</td>\n",
       "      <td>387.407990</td>\n",
       "      <td>387.407990</td>\n",
       "      <td>41518800</td>\n",
       "    </tr>\n",
       "    <tr>\n",
       "      <th>2014-11-18</th>\n",
       "      <td>387.785004</td>\n",
       "      <td>392.402008</td>\n",
       "      <td>371.117004</td>\n",
       "      <td>375.197998</td>\n",
       "      <td>375.197998</td>\n",
       "      <td>32222500</td>\n",
       "    </tr>\n",
       "    <tr>\n",
       "      <th>2014-11-19</th>\n",
       "      <td>373.895996</td>\n",
       "      <td>386.480988</td>\n",
       "      <td>373.895996</td>\n",
       "      <td>380.554993</td>\n",
       "      <td>380.554993</td>\n",
       "      <td>18931800</td>\n",
       "    </tr>\n",
       "    <tr>\n",
       "      <th>2014-11-20</th>\n",
       "      <td>380.307007</td>\n",
       "      <td>382.024994</td>\n",
       "      <td>356.781006</td>\n",
       "      <td>357.839996</td>\n",
       "      <td>357.839996</td>\n",
       "      <td>25233200</td>\n",
       "    </tr>\n",
       "    <tr>\n",
       "      <th>2014-11-21</th>\n",
       "      <td>357.878998</td>\n",
       "      <td>357.878998</td>\n",
       "      <td>344.112000</td>\n",
       "      <td>350.847992</td>\n",
       "      <td>350.847992</td>\n",
       "      <td>29850100</td>\n",
       "    </tr>\n",
       "  </tbody>\n",
       "</table>\n",
       "</div>"
      ],
      "text/plain": [
       "                  Open        High         Low       Close   Adj Close  \\\n",
       "Date                                                                     \n",
       "2014-11-17  388.348999  410.199005  377.502014  387.407990  387.407990   \n",
       "2014-11-18  387.785004  392.402008  371.117004  375.197998  375.197998   \n",
       "2014-11-19  373.895996  386.480988  373.895996  380.554993  380.554993   \n",
       "2014-11-20  380.307007  382.024994  356.781006  357.839996  357.839996   \n",
       "2014-11-21  357.878998  357.878998  344.112000  350.847992  350.847992   \n",
       "\n",
       "              Volume  \n",
       "Date                  \n",
       "2014-11-17  41518800  \n",
       "2014-11-18  32222500  \n",
       "2014-11-19  18931800  \n",
       "2014-11-20  25233200  \n",
       "2014-11-21  29850100  "
      ]
     },
     "execution_count": 10,
     "metadata": {},
     "output_type": "execute_result"
    }
   ],
   "source": [
    "Dataset_train.head()"
   ]
  },
  {
   "cell_type": "code",
   "execution_count": 11,
   "id": "70c4848d",
   "metadata": {},
   "outputs": [
    {
     "data": {
      "text/html": [
       "<div>\n",
       "<style scoped>\n",
       "    .dataframe tbody tr th:only-of-type {\n",
       "        vertical-align: middle;\n",
       "    }\n",
       "\n",
       "    .dataframe tbody tr th {\n",
       "        vertical-align: top;\n",
       "    }\n",
       "\n",
       "    .dataframe thead th {\n",
       "        text-align: right;\n",
       "    }\n",
       "</style>\n",
       "<table border=\"1\" class=\"dataframe\">\n",
       "  <thead>\n",
       "    <tr style=\"text-align: right;\">\n",
       "      <th></th>\n",
       "      <th>Open</th>\n",
       "      <th>High</th>\n",
       "      <th>Low</th>\n",
       "      <th>Close</th>\n",
       "      <th>Adj Close</th>\n",
       "      <th>Volume</th>\n",
       "    </tr>\n",
       "    <tr>\n",
       "      <th>Date</th>\n",
       "      <th></th>\n",
       "      <th></th>\n",
       "      <th></th>\n",
       "      <th></th>\n",
       "      <th></th>\n",
       "      <th></th>\n",
       "    </tr>\n",
       "  </thead>\n",
       "  <tbody>\n",
       "    <tr>\n",
       "      <th>2021-12-05</th>\n",
       "      <td>49201.519531</td>\n",
       "      <td>49768.148438</td>\n",
       "      <td>47857.496094</td>\n",
       "      <td>49368.847656</td>\n",
       "      <td>49368.847656</td>\n",
       "      <td>37198201161</td>\n",
       "    </tr>\n",
       "    <tr>\n",
       "      <th>2021-12-06</th>\n",
       "      <td>49413.480469</td>\n",
       "      <td>50929.519531</td>\n",
       "      <td>47281.035156</td>\n",
       "      <td>50582.625000</td>\n",
       "      <td>50582.625000</td>\n",
       "      <td>37707308001</td>\n",
       "    </tr>\n",
       "    <tr>\n",
       "      <th>2021-12-07</th>\n",
       "      <td>50581.828125</td>\n",
       "      <td>51934.781250</td>\n",
       "      <td>50175.808594</td>\n",
       "      <td>50700.085938</td>\n",
       "      <td>50700.085938</td>\n",
       "      <td>33676814852</td>\n",
       "    </tr>\n",
       "    <tr>\n",
       "      <th>2021-12-08</th>\n",
       "      <td>50667.648438</td>\n",
       "      <td>51171.375000</td>\n",
       "      <td>48765.988281</td>\n",
       "      <td>50504.796875</td>\n",
       "      <td>50504.796875</td>\n",
       "      <td>28479699446</td>\n",
       "    </tr>\n",
       "    <tr>\n",
       "      <th>2021-12-09</th>\n",
       "      <td>50450.082031</td>\n",
       "      <td>50797.164063</td>\n",
       "      <td>47358.351563</td>\n",
       "      <td>47672.121094</td>\n",
       "      <td>47672.121094</td>\n",
       "      <td>29603577251</td>\n",
       "    </tr>\n",
       "  </tbody>\n",
       "</table>\n",
       "</div>"
      ],
      "text/plain": [
       "                    Open          High           Low         Close  \\\n",
       "Date                                                                 \n",
       "2021-12-05  49201.519531  49768.148438  47857.496094  49368.847656   \n",
       "2021-12-06  49413.480469  50929.519531  47281.035156  50582.625000   \n",
       "2021-12-07  50581.828125  51934.781250  50175.808594  50700.085938   \n",
       "2021-12-08  50667.648438  51171.375000  48765.988281  50504.796875   \n",
       "2021-12-09  50450.082031  50797.164063  47358.351563  47672.121094   \n",
       "\n",
       "               Adj Close       Volume  \n",
       "Date                                   \n",
       "2021-12-05  49368.847656  37198201161  \n",
       "2021-12-06  50582.625000  37707308001  \n",
       "2021-12-07  50700.085938  33676814852  \n",
       "2021-12-08  50504.796875  28479699446  \n",
       "2021-12-09  47672.121094  29603577251  "
      ]
     },
     "execution_count": 11,
     "metadata": {},
     "output_type": "execute_result"
    }
   ],
   "source": [
    "Dataset_test.head()"
   ]
  },
  {
   "cell_type": "code",
   "execution_count": 13,
   "id": "d50ea3bf",
   "metadata": {},
   "outputs": [
    {
     "data": {
      "image/png": "[encoded data removed]",
      "text/plain": [
       "<Figure size 1152x576 with 1 Axes>"
      ]
     },
     "metadata": {
      "needs_background": "light"
     },
     "output_type": "display_data"
    }
   ],
   "source": [
    "plt.figure(figsize=(16,8))\n",
    "plt.title('Data sample BTC', fontsize=24)\n",
    "plt.plot(Dataset_train['Close'], label= \"train_btc\")\n",
    "plt.plot(Dataset_test['Close'], label=\"test_btc\")\n",
    "plt.xlabel('Date', fontsize=18)\n",
    "plt.ylabel('USD', fontsize=18)\n",
    "plt.legend()\n",
    "plt.show()"
   ]
  },
  {
   "cell_type": "code",
   "execution_count": 14,
   "id": "7e3035fc",
   "metadata": {},
   "outputs": [],
   "source": []
  },
  {
   "cell_type": "code",
   "execution_count": 15,
   "id": "ced4ead3",
   "metadata": {},
   "outputs": [
    {
     "data": {
      "text/html": [
       "<div>\n",
       "<style scoped>\n",
       "    .dataframe tbody tr th:only-of-type {\n",
       "        vertical-align: middle;\n",
       "    }\n",
       "\n",
       "    .dataframe tbody tr th {\n",
       "        vertical-align: top;\n",
       "    }\n",
       "\n",
       "    .dataframe thead th {\n",
       "        text-align: right;\n",
       "    }\n",
       "</style>\n",
       "<table border=\"1\" class=\"dataframe\">\n",
       "  <thead>\n",
       "    <tr style=\"text-align: right;\">\n",
       "      <th></th>\n",
       "      <th>Open</th>\n",
       "      <th>High</th>\n",
       "      <th>Low</th>\n",
       "      <th>Close</th>\n",
       "      <th>Adj Close</th>\n",
       "      <th>Volume</th>\n",
       "    </tr>\n",
       "    <tr>\n",
       "      <th>Date</th>\n",
       "      <th></th>\n",
       "      <th></th>\n",
       "      <th></th>\n",
       "      <th></th>\n",
       "      <th></th>\n",
       "      <th></th>\n",
       "    </tr>\n",
       "  </thead>\n",
       "  <tbody>\n",
       "    <tr>\n",
       "      <th>2022-07-05</th>\n",
       "      <td>1150.509766</td>\n",
       "      <td>1165.682739</td>\n",
       "      <td>1086.829956</td>\n",
       "      <td>1134.541016</td>\n",
       "      <td>1134.541016</td>\n",
       "      <td>16195518291</td>\n",
       "    </tr>\n",
       "    <tr>\n",
       "      <th>2022-07-06</th>\n",
       "      <td>1134.822266</td>\n",
       "      <td>1193.636719</td>\n",
       "      <td>1116.247559</td>\n",
       "      <td>1186.973999</td>\n",
       "      <td>1186.973999</td>\n",
       "      <td>15373536703</td>\n",
       "    </tr>\n",
       "    <tr>\n",
       "      <th>2022-07-07</th>\n",
       "      <td>1186.960938</td>\n",
       "      <td>1246.894897</td>\n",
       "      <td>1165.623169</td>\n",
       "      <td>1237.593384</td>\n",
       "      <td>1237.593384</td>\n",
       "      <td>14230795894</td>\n",
       "    </tr>\n",
       "    <tr>\n",
       "      <th>2022-07-08</th>\n",
       "      <td>1237.580322</td>\n",
       "      <td>1262.885742</td>\n",
       "      <td>1200.632202</td>\n",
       "      <td>1222.506226</td>\n",
       "      <td>1222.506226</td>\n",
       "      <td>16315929082</td>\n",
       "    </tr>\n",
       "    <tr>\n",
       "      <th>2022-07-09</th>\n",
       "      <td>1222.306885</td>\n",
       "      <td>1228.767944</td>\n",
       "      <td>1209.377563</td>\n",
       "      <td>1216.978271</td>\n",
       "      <td>1216.978271</td>\n",
       "      <td>8821353104</td>\n",
       "    </tr>\n",
       "  </tbody>\n",
       "</table>\n",
       "</div>"
      ],
      "text/plain": [
       "                   Open         High          Low        Close    Adj Close  \\\n",
       "Date                                                                          \n",
       "2022-07-05  1150.509766  1165.682739  1086.829956  1134.541016  1134.541016   \n",
       "2022-07-06  1134.822266  1193.636719  1116.247559  1186.973999  1186.973999   \n",
       "2022-07-07  1186.960938  1246.894897  1165.623169  1237.593384  1237.593384   \n",
       "2022-07-08  1237.580322  1262.885742  1200.632202  1222.506226  1222.506226   \n",
       "2022-07-09  1222.306885  1228.767944  1209.377563  1216.978271  1216.978271   \n",
       "\n",
       "                 Volume  \n",
       "Date                     \n",
       "2022-07-05  16195518291  \n",
       "2022-07-06  15373536703  \n",
       "2022-07-07  14230795894  \n",
       "2022-07-08  16315929082  \n",
       "2022-07-09   8821353104  "
      ]
     },
     "execution_count": 15,
     "metadata": {},
     "output_type": "execute_result"
    }
   ],
   "source": [
    "Dataset_train_eth.tail()"
   ]
  },
  {
   "cell_type": "code",
   "execution_count": 16,
   "id": "c9f55bc5",
   "metadata": {},
   "outputs": [
    {
     "data": {
      "text/html": [
       "<div>\n",
       "<style scoped>\n",
       "    .dataframe tbody tr th:only-of-type {\n",
       "        vertical-align: middle;\n",
       "    }\n",
       "\n",
       "    .dataframe tbody tr th {\n",
       "        vertical-align: top;\n",
       "    }\n",
       "\n",
       "    .dataframe thead th {\n",
       "        text-align: right;\n",
       "    }\n",
       "</style>\n",
       "<table border=\"1\" class=\"dataframe\">\n",
       "  <thead>\n",
       "    <tr style=\"text-align: right;\">\n",
       "      <th></th>\n",
       "      <th>Open</th>\n",
       "      <th>High</th>\n",
       "      <th>Low</th>\n",
       "      <th>Close</th>\n",
       "      <th>Adj Close</th>\n",
       "      <th>Volume</th>\n",
       "    </tr>\n",
       "    <tr>\n",
       "      <th>Date</th>\n",
       "      <th></th>\n",
       "      <th></th>\n",
       "      <th></th>\n",
       "      <th></th>\n",
       "      <th></th>\n",
       "      <th></th>\n",
       "    </tr>\n",
       "  </thead>\n",
       "  <tbody>\n",
       "    <tr>\n",
       "      <th>2022-07-10</th>\n",
       "      <td>1216.904419</td>\n",
       "      <td>1216.904419</td>\n",
       "      <td>1157.175537</td>\n",
       "      <td>1168.401611</td>\n",
       "      <td>1168.401611</td>\n",
       "      <td>10984558039</td>\n",
       "    </tr>\n",
       "    <tr>\n",
       "      <th>2022-07-11</th>\n",
       "      <td>1168.139038</td>\n",
       "      <td>1169.193848</td>\n",
       "      <td>1095.002808</td>\n",
       "      <td>1097.236572</td>\n",
       "      <td>1097.236572</td>\n",
       "      <td>12064180410</td>\n",
       "    </tr>\n",
       "    <tr>\n",
       "      <th>2022-07-12</th>\n",
       "      <td>1097.259155</td>\n",
       "      <td>1097.259155</td>\n",
       "      <td>1038.135620</td>\n",
       "      <td>1038.191650</td>\n",
       "      <td>1038.191650</td>\n",
       "      <td>12583282453</td>\n",
       "    </tr>\n",
       "    <tr>\n",
       "      <th>2022-07-13</th>\n",
       "      <td>1038.186646</td>\n",
       "      <td>1113.587158</td>\n",
       "      <td>1019.220337</td>\n",
       "      <td>1113.587158</td>\n",
       "      <td>1113.587158</td>\n",
       "      <td>18302588147</td>\n",
       "    </tr>\n",
       "    <tr>\n",
       "      <th>2022-07-14</th>\n",
       "      <td>1113.515747</td>\n",
       "      <td>1202.953369</td>\n",
       "      <td>1077.405762</td>\n",
       "      <td>1191.526245</td>\n",
       "      <td>1191.526245</td>\n",
       "      <td>16688640823</td>\n",
       "    </tr>\n",
       "  </tbody>\n",
       "</table>\n",
       "</div>"
      ],
      "text/plain": [
       "                   Open         High          Low        Close    Adj Close  \\\n",
       "Date                                                                          \n",
       "2022-07-10  1216.904419  1216.904419  1157.175537  1168.401611  1168.401611   \n",
       "2022-07-11  1168.139038  1169.193848  1095.002808  1097.236572  1097.236572   \n",
       "2022-07-12  1097.259155  1097.259155  1038.135620  1038.191650  1038.191650   \n",
       "2022-07-13  1038.186646  1113.587158  1019.220337  1113.587158  1113.587158   \n",
       "2022-07-14  1113.515747  1202.953369  1077.405762  1191.526245  1191.526245   \n",
       "\n",
       "                 Volume  \n",
       "Date                     \n",
       "2022-07-10  10984558039  \n",
       "2022-07-11  12064180410  \n",
       "2022-07-12  12583282453  \n",
       "2022-07-13  18302588147  \n",
       "2022-07-14  16688640823  "
      ]
     },
     "execution_count": 16,
     "metadata": {},
     "output_type": "execute_result"
    }
   ],
   "source": [
    "Dataset_test_eth.head()"
   ]
  },
  {
   "cell_type": "code",
   "execution_count": 17,
   "id": "498827c7",
   "metadata": {},
   "outputs": [
    {
     "data": {
      "image/png": "[encoded data removed]",
      "text/plain": [
       "<Figure size 1152x576 with 1 Axes>"
      ]
     },
     "metadata": {
      "needs_background": "light"
     },
     "output_type": "display_data"
    }
   ],
   "source": [
    "plt.figure(figsize=(16,8))\n",
    "plt.title('Data sample ETH', fontsize=24)\n",
    "plt.plot(Dataset_train_eth['Close'], label= \"train_eth\")\n",
    "plt.plot(Dataset_test_eth['Close'], label=\"test_eth\")\n",
    "plt.xlabel('Date', fontsize=18)\n",
    "plt.ylabel('USD', fontsize=18)\n",
    "plt.legend()\n",
    "plt.show()"
   ]
  },
  {
   "cell_type": "code",
   "execution_count": null,
   "id": "24fe64b0",
   "metadata": {},
   "outputs": [],
   "source": []
  },
  {
   "cell_type": "code",
   "execution_count": 16,
   "id": "8a4d8a3e",
   "metadata": {},
   "outputs": [],
   "source": []
  },
  {
   "cell_type": "code",
   "execution_count": null,
   "id": "a3571b93",
   "metadata": {},
   "outputs": [],
   "source": []
  },
  {
   "cell_type": "code",
   "execution_count": 22,
   "id": "00b305ae",
   "metadata": {},
   "outputs": [
    {
     "data": {
      "image/png": "[encoded data removed]",
      "text/plain": [
       "<Figure size 1152x576 with 1 Axes>"
      ]
     },
     "metadata": {
      "needs_background": "light"
     },
     "output_type": "display_data"
    }
   ],
   "source": [
    "plt.figure(figsize=(16,8))\n",
    "plt.title('BTC_ETH', fontsize=24)\n",
    "plt.plot(train_btc['Close'], label= \"BTC\")\n",
    "plt.plot(train_eth['Close'], label=\"ETH\")\n",
    "plt.xlabel('Date', fontsize=18)\n",
    "plt.ylabel('USD', fontsize=18)\n",
    "plt.legend()\n",
    "plt.show()"
   ]
  },
  {
   "cell_type": "code",
   "execution_count": 18,
   "id": "f922ebf3",
   "metadata": {},
   "outputs": [],
   "source": [
    "merged_data = pd.merge(train_btc, train_eth, on='Date', how='inner')\n",
    "merged_data.rename(columns={'Close_x': 'BTC', 'Close_y': 'ETH'}, inplace=True)"
   ]
  },
  {
   "cell_type": "code",
   "execution_count": 19,
   "id": "c12519e3",
   "metadata": {},
   "outputs": [],
   "source": [
    "correlation_matrix = merged_data[['BTC', 'ETH']].corr()"
   ]
  },
  {
   "cell_type": "code",
   "execution_count": 20,
   "id": "d0619ddf",
   "metadata": {},
   "outputs": [
    {
     "data": {
      "image/png": "[encoded data removed]",
      "text/plain": [
       "<Figure size 576x432 with 2 Axes>"
      ]
     },
     "metadata": {
      "needs_background": "light"
     },
     "output_type": "display_data"
    }
   ],
   "source": [
    "plt.figure(figsize=(8, 6))\n",
    "sns.heatmap(correlation_matrix, annot=True)\n",
    "plt.title('ETH vs BTC')\n",
    "plt.show()"
   ]
  },
  {
   "cell_type": "code",
   "execution_count": 12,
   "id": "8af17ce6",
   "metadata": {},
   "outputs": [
    {
     "data": {
      "text/plain": [
       "2576"
      ]
     },
     "execution_count": 12,
     "metadata": {},
     "output_type": "execute_result"
    }
   ],
   "source": [
    "data = train_btc.filter(['Close'])\n",
    "dataset = data.values\n",
    "training_data_len = math.ceil(len(data) * .8)\n",
    "training_data_len"
   ]
  },
  {
   "cell_type": "code",
   "execution_count": null,
   "id": "9ce6e3a6",
   "metadata": {},
   "outputs": [],
   "source": []
  },
  {
   "cell_type": "code",
   "execution_count": null,
   "id": "bd7cea6c",
   "metadata": {},
   "outputs": [],
   "source": [
    "len(train_eth)"
   ]
  },
  {
   "cell_type": "code",
   "execution_count": null,
   "id": "920d55c3",
   "metadata": {},
   "outputs": [],
   "source": []
  },
  {
   "cell_type": "code",
   "execution_count": 7,
   "id": "479a3fe8",
   "metadata": {},
   "outputs": [],
   "source": [
    "from sklearn.preprocessing import MinMaxScaler\n",
    "sc=MinMaxScaler(feature_range=(0,1))\n",
    "BTC_training_scaled=sc.fit_transform(dataset)"
   ]
  },
  {
   "cell_type": "code",
   "execution_count": 8,
   "id": "fd754de9",
   "metadata": {},
   "outputs": [],
   "source": [
    "train_data_BTC = BTC_training_scaled[0:training_data_len, :]"
   ]
  },
  {
   "cell_type": "code",
   "execution_count": null,
   "id": "9569bb43",
   "metadata": {},
   "outputs": [],
   "source": []
  },
  {
   "cell_type": "code",
   "execution_count": null,
   "id": "3b1bc3fa",
   "metadata": {},
   "outputs": [],
   "source": []
  },
  {
   "cell_type": "code",
   "execution_count": null,
   "id": "bf1ac42b",
   "metadata": {},
   "outputs": [],
   "source": []
  },
  {
   "cell_type": "code",
   "execution_count": 9,
   "id": "c48e092a",
   "metadata": {},
   "outputs": [],
   "source": [
    "x_train_BTC = []\n",
    "y_train_BTC = []\n",
    "for i in range(80, len(train_data_BTC)):\n",
    "    x_train_BTC.append(train_data_BTC[i-80:i, 0])\n",
    "    y_train_BTC.append(train_data_BTC[i, 0])\n",
    "x_train_BTC,y_train_BTC=np.array(x_train_BTC), np.array(y_train_BTC)"
   ]
  },
  {
   "cell_type": "code",
   "execution_count": 10,
   "id": "fec3513b",
   "metadata": {},
   "outputs": [],
   "source": [
    "x_train_BTC = np.reshape(x_train_BTC, (x_train_BTC.shape[0],x_train_BTC.shape[1], 1))"
   ]
  },
  {
   "cell_type": "code",
   "execution_count": null,
   "id": "4b70529c",
   "metadata": {},
   "outputs": [],
   "source": []
  },
  {
   "cell_type": "code",
   "execution_count": null,
   "id": "861c5e3d",
   "metadata": {},
   "outputs": [],
   "source": []
  },
  {
   "cell_type": "code",
   "execution_count": null,
   "id": "7de1336d",
   "metadata": {},
   "outputs": [],
   "source": []
  },
  {
   "cell_type": "code",
   "execution_count": 11,
   "id": "9357bf3c",
   "metadata": {},
   "outputs": [],
   "source": [
    "test_data = BTC_training_scaled[training_data_len- 80: ,:]\n",
    "X_test = []\n",
    "y_test = dataset[training_data_len: ,:]\n",
    "for i in range(80, len(test_data)):\n",
    "  X_test.append(test_data[i-80 : i, 0])"
   ]
  },
  {
   "cell_type": "code",
   "execution_count": 12,
   "id": "c01aa9fa",
   "metadata": {},
   "outputs": [],
   "source": [
    "X_test = np.array(X_test)"
   ]
  },
  {
   "cell_type": "code",
   "execution_count": 13,
   "id": "849c165d",
   "metadata": {},
   "outputs": [],
   "source": [
    "X_test = np.reshape(X_test, (X_test.shape[0], X_test.shape[1], 1))"
   ]
  },
  {
   "cell_type": "code",
   "execution_count": null,
   "id": "9c68a6aa",
   "metadata": {},
   "outputs": [],
   "source": []
  },
  {
   "cell_type": "code",
   "execution_count": null,
   "id": "47ff2658",
   "metadata": {},
   "outputs": [],
   "source": []
  },
  {
   "cell_type": "code",
   "execution_count": null,
   "id": "1c9eae2e",
   "metadata": {},
   "outputs": [],
   "source": []
  },
  {
   "cell_type": "code",
   "execution_count": 14,
   "id": "400f85be",
   "metadata": {},
   "outputs": [],
   "source": [
    "from tensorflow.keras import models, layers, Sequential"
   ]
  },
  {
   "cell_type": "code",
   "execution_count": 15,
   "id": "e8d97deb",
   "metadata": {},
   "outputs": [],
   "source": [
    "Reg_btc = Sequential()\n",
    "Reg_btc.add(layers.LSTM(60, return_sequences=True, input_shape= (x_train_BTC.shape[1], 1)))\n",
    "Reg_btc.add(layers.Dropout(0.2))\n",
    "Reg_btc.add(layers.LSTM(60, return_sequences=True))\n",
    "Reg_btc.add(layers.Dropout(0.2))\n",
    "Reg_btc.add(layers.LSTM(60, return_sequences=True))\n",
    "Reg_btc.add(layers.Dropout(0.2))\n",
    "Reg_btc.add(layers.LSTM(60))\n",
    "Reg_btc.add(layers.Dropout(0.2))\n",
    "Reg_btc.add(layers.Dense(1))"
   ]
  },
  {
   "cell_type": "code",
   "execution_count": 16,
   "id": "69f81393",
   "metadata": {},
   "outputs": [
    {
     "name": "stdout",
     "output_type": "stream",
     "text": [
      "Model: \"sequential\"\n",
      "_________________________________________________________________\n",
      "Layer (type)                 Output Shape              Param #   \n",
      "=================================================================\n",
      "lstm (LSTM)                  (None, 80, 60)            14880     \n",
      "_________________________________________________________________\n",
      "dropout (Dropout)            (None, 80, 60)            0         \n",
      "_________________________________________________________________\n",
      "lstm_1 (LSTM)                (None, 80, 60)            29040     \n",
      "_________________________________________________________________\n",
      "dropout_1 (Dropout)          (None, 80, 60)            0         \n",
      "_________________________________________________________________\n",
      "lstm_2 (LSTM)                (None, 80, 60)            29040     \n",
      "_________________________________________________________________\n",
      "dropout_2 (Dropout)          (None, 80, 60)            0         \n",
      "_________________________________________________________________\n",
      "lstm_3 (LSTM)                (None, 60)                29040     \n",
      "_________________________________________________________________\n",
      "dropout_3 (Dropout)          (None, 60)                0         \n",
      "_________________________________________________________________\n",
      "dense (Dense)                (None, 1)                 61        \n",
      "=================================================================\n",
      "Total params: 102,061\n",
      "Trainable params: 102,061\n",
      "Non-trainable params: 0\n",
      "_________________________________________________________________\n"
     ]
    }
   ],
   "source": [
    "Reg_btc.summary()"
   ]
  },
  {
   "cell_type": "code",
   "execution_count": 17,
   "id": "b47a2dc4",
   "metadata": {},
   "outputs": [],
   "source": [
    "Reg_btc.compile(optimizer='adam',loss='mean_squared_error')"
   ]
  },
  {
   "cell_type": "code",
   "execution_count": null,
   "id": "5a3dca4d",
   "metadata": {},
   "outputs": [],
   "source": []
  },
  {
   "cell_type": "code",
   "execution_count": null,
   "id": "24d0e94a",
   "metadata": {},
   "outputs": [],
   "source": []
  },
  {
   "cell_type": "code",
   "execution_count": 18,
   "id": "644bc2d2",
   "metadata": {},
   "outputs": [
    {
     "name": "stdout",
     "output_type": "stream",
     "text": [
      "Train on 2496 samples\n",
      "Epoch 1/10\n",
      "2496/2496 [==============================] - 33s 13ms/sample - loss: 0.0068\n",
      "Epoch 2/10\n",
      "2496/2496 [==============================] - 2s 876us/sample - loss: 0.0022\n",
      "Epoch 3/10\n",
      "2496/2496 [==============================] - 2s 921us/sample - loss: 0.0027\n",
      "Epoch 4/10\n",
      "2496/2496 [==============================] - 2s 865us/sample - loss: 0.0022\n",
      "Epoch 5/10\n",
      "2496/2496 [==============================] - 2s 919us/sample - loss: 0.0020\n",
      "Epoch 6/10\n",
      "2496/2496 [==============================] - 2s 923us/sample - loss: 0.0017\n",
      "Epoch 7/10\n",
      "2496/2496 [==============================] - 2s 907us/sample - loss: 0.0018\n",
      "Epoch 8/10\n",
      "2496/2496 [==============================] - 2s 820us/sample - loss: 0.0016\n",
      "Epoch 9/10\n",
      "2496/2496 [==============================] - 2s 808us/sample - loss: 0.0013\n",
      "Epoch 10/10\n",
      "2496/2496 [==============================] - 2s 823us/sample - loss: 0.0014\n"
     ]
    }
   ],
   "source": [
    "history = Reg_btc.fit(x_train_BTC, y_train_BTC, batch_size=32,epochs=10)"
   ]
  },
  {
   "cell_type": "code",
   "execution_count": null,
   "id": "7dc71730",
   "metadata": {},
   "outputs": [],
   "source": []
  },
  {
   "cell_type": "code",
   "execution_count": 19,
   "id": "8b950a3d",
   "metadata": {},
   "outputs": [
    {
     "data": {
      "text/plain": [
       "643"
      ]
     },
     "execution_count": 19,
     "metadata": {},
     "output_type": "execute_result"
    }
   ],
   "source": [
    "predictions_1 = Reg_btc.predict(X_test)\n",
    "predictions_1 = sc.inverse_transform(predictions_1)\n",
    "len(predictions_1)"
   ]
  },
  {
   "cell_type": "code",
   "execution_count": null,
   "id": "b7617c10",
   "metadata": {},
   "outputs": [],
   "source": []
  },
  {
   "cell_type": "code",
   "execution_count": 20,
   "id": "8a9e96e5",
   "metadata": {},
   "outputs": [
    {
     "data": {
      "text/plain": [
       "654.6610765441293"
      ]
     },
     "execution_count": 20,
     "metadata": {},
     "output_type": "execute_result"
    }
   ],
   "source": [
    "rmse = np.sqrt(np.mean(predictions_1 - y_test)**2)\n",
    "rmse"
   ]
  },
  {
   "cell_type": "code",
   "execution_count": null,
   "id": "9d7a3134",
   "metadata": {},
   "outputs": [],
   "source": []
  },
  {
   "cell_type": "code",
   "execution_count": null,
   "id": "42755fba",
   "metadata": {},
   "outputs": [],
   "source": []
  },
  {
   "cell_type": "code",
   "execution_count": null,
   "id": "70fb302e",
   "metadata": {},
   "outputs": [],
   "source": []
  },
  {
   "cell_type": "code",
   "execution_count": 21,
   "id": "3747a61b",
   "metadata": {},
   "outputs": [
    {
     "name": "stderr",
     "output_type": "stream",
     "text": [
      "/home/shegun/anaconda3/envs/GPU_Stations/lib/python3.6/site-packages/ipykernel_launcher.py:4: SettingWithCopyWarning: \n",
      "A value is trying to be set on a copy of a slice from a DataFrame.\n",
      "Try using .loc[row_indexer,col_indexer] = value instead\n",
      "\n",
      "See the caveats in the documentation: https://pandas.pydata.org/pandas-docs/stable/user_guide/indexing.html#returning-a-view-versus-a-copy\n",
      "  after removing the cwd from sys.path.\n"
     ]
    },
    {
     "data": {
      "text/plain": [
       "<matplotlib.legend.Legend at 0x7faa2420de80>"
      ]
     },
     "execution_count": 21,
     "metadata": {},
     "output_type": "execute_result"
    },
    {
     "data": {
      "image/png": "[encoded data removed]",
      "text/plain": [
       "<Figure size 1008x720 with 1 Axes>"
      ]
     },
     "metadata": {
      "needs_background": "light"
     },
     "output_type": "display_data"
    }
   ],
   "source": [
    "train = train_btc[:training_data_len]\n",
    "\n",
    "valid_1 = train_btc[training_data_len:]\n",
    "valid_1['Predictions'] = predictions_1\n",
    "plt.figure(figsize=(14, 10))\n",
    "plt.subplot(2, 1, 1)\n",
    "plt.title('Graph')\n",
    "plt.xlabel('Date', fontsize=18)\n",
    "plt.ylabel('Close(USD)', fontsize=18)\n",
    "plt.plot(train['Close'])\n",
    "plt.plot(valid_1[['Close', 'Predictions']])\n",
    "\n",
    "plt.legend(['Train', 'test', 'Predictions'], loc='upper left')"
   ]
  },
  {
   "cell_type": "code",
   "execution_count": 22,
   "id": "15b3b9c1",
   "metadata": {},
   "outputs": [],
   "source": [
    "pred = data[-80:].values\n",
    "scaled = sc.fit_transform(pred)\n",
    "today_btc = []\n",
    "today_btc.append(scaled)\n",
    "today_btc = np.array(today_btc)\n",
    "today_btc = np.reshape(today_btc, (today_btc.shape[0], today_btc.shape[1], 1))\n",
    "pred_price = Reg_btc.predict(today_btc)"
   ]
  },
  {
   "cell_type": "code",
   "execution_count": 23,
   "id": "73eec702",
   "metadata": {},
   "outputs": [
    {
     "name": "stdout",
     "output_type": "stream",
     "text": [
      "[[26154.578]]\n"
     ]
    }
   ],
   "source": [
    "pred_price = sc.inverse_transform(pred_price)\n",
    "print(pred_price)"
   ]
  },
  {
   "cell_type": "code",
   "execution_count": 24,
   "id": "902496a6",
   "metadata": {},
   "outputs": [
    {
     "name": "stdout",
     "output_type": "stream",
     "text": [
      "WARNING:tensorflow:From /home/shegun/anaconda3/envs/GPU_Stations/lib/python3.6/site-packages/tensorflow_core/python/ops/resource_variable_ops.py:1786: calling BaseResourceVariable.__init__ (from tensorflow.python.ops.resource_variable_ops) with constraint is deprecated and will be removed in a future version.\n",
      "Instructions for updating:\n",
      "If using Keras pass *_constraint arguments to layers.\n",
      "INFO:tensorflow:Assets written to: CryptoPaper/assets\n"
     ]
    }
   ],
   "source": [
    "Reg_btc.save(\"CryptoPaper\")"
   ]
  },
  {
   "cell_type": "code",
   "execution_count": null,
   "id": "fff021c0",
   "metadata": {},
   "outputs": [],
   "source": []
  },
  {
   "cell_type": "code",
   "execution_count": null,
   "id": "118a9140",
   "metadata": {},
   "outputs": [],
   "source": []
  },
  {
   "cell_type": "code",
   "execution_count": null,
   "id": "d1ebbe3d",
   "metadata": {},
   "outputs": [],
   "source": []
  },
  {
   "cell_type": "code",
   "execution_count": null,
   "id": "ec06cdd5",
   "metadata": {},
   "outputs": [],
   "source": []
  },
  {
   "cell_type": "code",
   "execution_count": null,
   "id": "76389c35",
   "metadata": {},
   "outputs": [],
   "source": []
  },
  {
   "cell_type": "code",
   "execution_count": null,
   "id": "76e95333",
   "metadata": {},
   "outputs": [],
   "source": []
  },
  {
   "cell_type": "code",
   "execution_count": null,
   "id": "45d7c5c7",
   "metadata": {},
   "outputs": [],
   "source": []
  },
  {
   "cell_type": "code",
   "execution_count": null,
   "id": "7f77d5be",
   "metadata": {},
   "outputs": [],
   "source": []
  },
  {
   "cell_type": "code",
   "execution_count": null,
   "id": "74318034",
   "metadata": {},
   "outputs": [],
   "source": []
  },
  {
   "cell_type": "code",
   "execution_count": null,
   "id": "feeb8a90",
   "metadata": {},
   "outputs": [],
   "source": []
  },
  {
   "cell_type": "code",
   "execution_count": null,
   "id": "8cf9af8b",
   "metadata": {},
   "outputs": [],
   "source": []
  },
  {
   "cell_type": "code",
   "execution_count": null,
   "id": "7084bd06",
   "metadata": {},
   "outputs": [],
   "source": []
  },
  {
   "cell_type": "code",
   "execution_count": null,
   "id": "ac11af2b",
   "metadata": {},
   "outputs": [],
   "source": []
  },
  {
   "cell_type": "code",
   "execution_count": null,
   "id": "e64a7035",
   "metadata": {},
   "outputs": [],
   "source": []
  },
  {
   "cell_type": "code",
   "execution_count": null,
   "id": "9e7be998",
   "metadata": {},
   "outputs": [],
   "source": []
  },
  {
   "cell_type": "code",
   "execution_count": null,
   "id": "fc8f49ef",
   "metadata": {},
   "outputs": [],
   "source": []
  },
  {
   "cell_type": "code",
   "execution_count": null,
   "id": "cabc5da7",
   "metadata": {},
   "outputs": [],
   "source": []
  },
  {
   "cell_type": "code",
   "execution_count": null,
   "id": "f0b20793",
   "metadata": {},
   "outputs": [],
   "source": []
  },
  {
   "cell_type": "code",
   "execution_count": null,
   "id": "b54f1a3d",
   "metadata": {},
   "outputs": [],
   "source": []
  },
  {
   "cell_type": "code",
   "execution_count": null,
   "id": "590b6200",
   "metadata": {},
   "outputs": [],
   "source": []
  },
  {
   "cell_type": "code",
   "execution_count": null,
   "id": "223a85a8",
   "metadata": {},
   "outputs": [],
   "source": []
  },
  {
   "cell_type": "code",
   "execution_count": null,
   "id": "327a6dba",
   "metadata": {},
   "outputs": [],
   "source": []
  },
  {
   "cell_type": "code",
   "execution_count": null,
   "id": "e8ecf752",
   "metadata": {},
   "outputs": [],
   "source": []
  },
  {
   "cell_type": "code",
   "execution_count": null,
   "id": "eaa37173",
   "metadata": {},
   "outputs": [],
   "source": []
  },
  {
   "cell_type": "code",
   "execution_count": null,
   "id": "dde163ac",
   "metadata": {},
   "outputs": [],
   "source": []
  },
  {
   "cell_type": "code",
   "execution_count": null,
   "id": "9b43a719",
   "metadata": {},
   "outputs": [],
   "source": []
  },
  {
   "cell_type": "code",
   "execution_count": null,
   "id": "90b458b7",
   "metadata": {},
   "outputs": [],
   "source": []
  },
  {
   "cell_type": "code",
   "execution_count": null,
   "id": "20422e10",
   "metadata": {},
   "outputs": [],
   "source": []
  },
  {
   "cell_type": "code",
   "execution_count": null,
   "id": "7c721eb7",
   "metadata": {},
   "outputs": [],
   "source": []
  },
  {
   "cell_type": "code",
   "execution_count": null,
   "id": "0d7f0fd0",
   "metadata": {},
   "outputs": [],
   "source": []
  },
  {
   "cell_type": "code",
   "execution_count": null,
   "id": "88e9f160",
   "metadata": {},
   "outputs": [],
   "source": []
  },
  {
   "cell_type": "code",
   "execution_count": null,
   "id": "7431efaf",
   "metadata": {},
   "outputs": [],
   "source": []
  },
  {
   "cell_type": "code",
   "execution_count": null,
   "id": "5c724a58",
   "metadata": {},
   "outputs": [],
   "source": []
  },
  {
   "cell_type": "code",
   "execution_count": null,
   "id": "863afb68",
   "metadata": {},
   "outputs": [],
   "source": []
  },
  {
   "cell_type": "code",
   "execution_count": null,
   "id": "2a6dd031",
   "metadata": {},
   "outputs": [],
   "source": []
  },
  {
   "cell_type": "code",
   "execution_count": null,
   "id": "9581837f",
   "metadata": {},
   "outputs": [],
   "source": []
  },
  {
   "cell_type": "code",
   "execution_count": null,
   "id": "deed03da",
   "metadata": {},
   "outputs": [],
   "source": []
  },
  {
   "cell_type": "code",
   "execution_count": null,
   "id": "e649ca91",
   "metadata": {},
   "outputs": [],
   "source": []
  },
  {
   "cell_type": "code",
   "execution_count": null,
   "id": "81c45b22",
   "metadata": {},
   "outputs": [],
   "source": []
  },
  {
   "cell_type": "code",
   "execution_count": null,
   "id": "5d57c471",
   "metadata": {},
   "outputs": [],
   "source": []
  },
  {
   "cell_type": "code",
   "execution_count": null,
   "id": "d4f74e71",
   "metadata": {},
   "outputs": [],
   "source": []
  },
  {
   "cell_type": "code",
   "execution_count": null,
   "id": "29d6d4a7",
   "metadata": {},
   "outputs": [],
   "source": []
  },
  {
   "cell_type": "code",
   "execution_count": null,
   "id": "8e6a883d",
   "metadata": {},
   "outputs": [],
   "source": []
  },
  {
   "cell_type": "code",
   "execution_count": null,
   "id": "b12a57e0",
   "metadata": {},
   "outputs": [],
   "source": []
  },
  {
   "cell_type": "code",
   "execution_count": null,
   "id": "a12f1b7f",
   "metadata": {},
   "outputs": [],
   "source": []
  },
  {
   "cell_type": "code",
   "execution_count": null,
   "id": "ee5344d6",
   "metadata": {},
   "outputs": [],
   "source": []
  },
  {
   "cell_type": "code",
   "execution_count": null,
   "id": "f64f4d62",
   "metadata": {},
   "outputs": [],
   "source": []
  },
  {
   "cell_type": "code",
   "execution_count": null,
   "id": "2844826f",
   "metadata": {},
   "outputs": [],
   "source": []
  },
  {
   "cell_type": "code",
   "execution_count": null,
   "id": "94400006",
   "metadata": {},
   "outputs": [],
   "source": []
  },
  {
   "cell_type": "code",
   "execution_count": null,
   "id": "70528ea1",
   "metadata": {},
   "outputs": [],
   "source": []
  },
  {
   "cell_type": "code",
   "execution_count": null,
   "id": "0e9e26d3",
   "metadata": {},
   "outputs": [],
   "source": []
  },
  {
   "cell_type": "code",
   "execution_count": null,
   "id": "e01c594f",
   "metadata": {},
   "outputs": [],
   "source": []
  },
  {
   "cell_type": "code",
   "execution_count": null,
   "id": "774e4cd8",
   "metadata": {},
   "outputs": [],
   "source": []
  },
  {
   "cell_type": "code",
   "execution_count": null,
   "id": "7db0023c",
   "metadata": {},
   "outputs": [],
   "source": []
  },
  {
   "cell_type": "code",
   "execution_count": null,
   "id": "1819bd6a",
   "metadata": {},
   "outputs": [],
   "source": []
  },
  {
   "cell_type": "code",
   "execution_count": null,
   "id": "f031b419",
   "metadata": {},
   "outputs": [],
   "source": []
  },
  {
   "cell_type": "code",
   "execution_count": null,
   "id": "27ef3b8c",
   "metadata": {},
   "outputs": [],
   "source": []
  },
  {
   "cell_type": "code",
   "execution_count": null,
   "id": "970daee8",
   "metadata": {},
   "outputs": [],
   "source": []
  },
  {
   "cell_type": "code",
   "execution_count": null,
   "id": "716ab43e",
   "metadata": {},
   "outputs": [],
   "source": []
  }
 ],
 "metadata": {
  "kernelspec": {
   "display_name": "Python 3",
   "language": "python",
   "name": "python3"
  },
  "language_info": {
   "codemirror_mode": {
    "name": "ipython",
    "version": 3
   },
   "file_extension": ".py",
   "mimetype": "text/x-python",
   "name": "python",
   "nbconvert_exporter": "python",
   "pygments_lexer": "ipython3",
   "version": "3.6.13"
  }
 },
 "nbformat": 4,
 "nbformat_minor": 5
}
